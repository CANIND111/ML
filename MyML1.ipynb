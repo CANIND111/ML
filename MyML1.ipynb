{
 "cells": [
  {
   "cell_type": "markdown",
   "id": "f8d1da2c-2984-468c-a7a9-5104447e7e9b",
   "metadata": {},
   "source": [
    "## KNN SCRATCH"
   ]
  },
  {
   "cell_type": "code",
   "execution_count": null,
   "id": "f54bb114-c365-4b7b-9d2b-84dc2cfc867d",
   "metadata": {},
   "outputs": [],
   "source": [
    "def minkowski_distance(point1, point2,p):\n",
    "    return np.power(sum(np.abs(point1-point2)**p),1/p)    "
   ]
  },
  {
   "cell_type": "code",
   "execution_count": null,
   "id": "02e84165-023d-494e-b753-95efc5e3778d",
   "metadata": {},
   "outputs": [],
   "source": [
    "def predict_price(X_train,y_train,sample,k=5,p):\n",
    "    distances = []\n",
    "    for x in X_train.to_numpy():\n",
    "        distance = minkowski_distance(sample,x,p)\n",
    "        distances.append(distance)\n",
    "    sorted_distances = np.argsort(distances)\n",
    "    k_nearest_targets = y_train[sorted_distances[:k]]\n",
    "    predict_price = np.mean(k_nearest_targets)\n",
    "    return predict_price"
   ]
  },
  {
   "cell_type": "code",
   "execution_count": null,
   "id": "2484a10e-63f5-4cb4-b3c0-163b7fd6424d",
   "metadata": {},
   "outputs": [],
   "source": [
    "def predict_class(X_train,y_train,sample,k=5,p):\n",
    "    distances = []\n",
    "    for x in X_train.to_numpy():\n",
    "        distance = minkowski_distance(sample,x,p)\n",
    "        distances.append(distance)\n",
    "    sorted_distances = np.argsort(distances)\n",
    "    k_nearest_targets = y_train[sorted_distances[:k]]\n",
    "    class_counts = np.bincount(k_nearest_targets)\n",
    "    prediction = agrmax(class_counts)\n",
    "    return prediction"
   ]
  },
  {
   "cell_type": "code",
   "execution_count": null,
   "id": "1eb23fbf-70bd-463c-bfbf-5968e9f90dd3",
   "metadata": {},
   "outputs": [],
   "source": [
    "def calculate_mse_for_k(X_train,y_train,X_test,y_test,k,p):\n",
    "    y_preds= []\n",
    "    for sample in X_test.to_numpy():\n",
    "        y_pred = predict_price(X_train,y_train,sample,k,p)\n",
    "        y_preds.append(y_pred)\n",
    "    mse = mean_squared_error(y_test,y_preds)\n",
    "    return mse"
   ]
  },
  {
   "cell_type": "code",
   "execution_count": null,
   "id": "da0772a8-2b97-4433-b43a-3acb2bf36459",
   "metadata": {},
   "outputs": [],
   "source": []
  },
  {
   "cell_type": "code",
   "execution_count": null,
   "id": "1d8cb0ac-929f-46e5-b2f8-0e2609a7bb26",
   "metadata": {},
   "outputs": [],
   "source": []
  },
  {
   "cell_type": "code",
   "execution_count": null,
   "id": "f1d597a2-5a5c-4e5c-9636-94c2d078aaf8",
   "metadata": {},
   "outputs": [],
   "source": []
  },
  {
   "cell_type": "code",
   "execution_count": null,
   "id": "1f29bff4-58dd-4005-a1aa-9aa901c556d3",
   "metadata": {},
   "outputs": [],
   "source": []
  },
  {
   "cell_type": "code",
   "execution_count": null,
   "id": "7242c18d-fe66-4f21-a30d-296263fb872a",
   "metadata": {},
   "outputs": [],
   "source": []
  },
  {
   "cell_type": "code",
   "execution_count": null,
   "id": "f59de82f-b6f9-4f01-ac73-66c56e4fe458",
   "metadata": {},
   "outputs": [],
   "source": []
  },
  {
   "cell_type": "code",
   "execution_count": null,
   "id": "9ccd4b50-6788-47dc-bd82-fcbbdbba5711",
   "metadata": {},
   "outputs": [],
   "source": []
  },
  {
   "cell_type": "code",
   "execution_count": null,
   "id": "882f78b7-2cda-4c58-87b9-b96b4239139d",
   "metadata": {},
   "outputs": [],
   "source": []
  },
  {
   "cell_type": "code",
   "execution_count": null,
   "id": "bb03399d-da37-43ff-af35-6bc72bda7442",
   "metadata": {},
   "outputs": [],
   "source": []
  },
  {
   "cell_type": "code",
   "execution_count": null,
   "id": "0e7e7dd6-a347-43a2-b36f-f0d971ba90d0",
   "metadata": {},
   "outputs": [],
   "source": []
  },
  {
   "cell_type": "code",
   "execution_count": null,
   "id": "f87b8531-9258-4979-8d7a-c21276877517",
   "metadata": {},
   "outputs": [],
   "source": []
  },
  {
   "cell_type": "code",
   "execution_count": null,
   "id": "1f4ffc02-2f06-4da0-9f7a-dec5a6dad4ff",
   "metadata": {},
   "outputs": [],
   "source": []
  },
  {
   "cell_type": "code",
   "execution_count": null,
   "id": "0e68abd6-be7c-457f-8290-6f8948459e81",
   "metadata": {},
   "outputs": [],
   "source": []
  },
  {
   "cell_type": "code",
   "execution_count": null,
   "id": "a19d6346-339f-4cf5-a379-72f0c0d6e5ef",
   "metadata": {},
   "outputs": [],
   "source": []
  },
  {
   "cell_type": "code",
   "execution_count": null,
   "id": "d6ae760f-9370-41c6-9149-419050cccd05",
   "metadata": {},
   "outputs": [],
   "source": []
  },
  {
   "cell_type": "markdown",
   "id": "d63df798-6191-448f-bbf8-176050b2f7e4",
   "metadata": {
    "tags": []
   },
   "source": [
    "## DT SCRATCH "
   ]
  },
  {
   "cell_type": "code",
   "execution_count": null,
   "id": "36bfafdc-062c-4cef-a31b-20cacc62f3fd",
   "metadata": {},
   "outputs": [],
   "source": [
    "def get_best_split(data):\n",
    "    x = data[:,0]\n",
    "    y = data[:,1]\n",
    "    split_pts = splits(x)\n",
    "    results = {}\n",
    "    for point in split_pts:\n",
    "        x_true, y_true, x_false , y_false = split_data(x,y, point)\n",
    "        errors = MAE(y, y_true, y_false)\n",
    "        results[point] = errors\n",
    "    best_point = min(results,key=results.get)\n",
    "    return results,best_point"
   ]
  },
  {
   "cell_type": "code",
   "execution_count": null,
   "id": "be6fe4b7-9104-49c0-8617-4eba0224fefa",
   "metadata": {},
   "outputs": [],
   "source": [
    "def splits(x):\n",
    "    splits_points = []\n",
    "    x_sorted = sorted(x)\n",
    "    for i in range(len(x)-1):\n",
    "        mid_point = (x_sorted[i] + x_sorted[i+1])/2\n",
    "        splits_points.append(mid_point)\n",
    "    return splits_points"
   ]
  },
  {
   "cell_type": "code",
   "execution_count": null,
   "id": "311c70c2-50ad-4701-970e-c180406bf736",
   "metadata": {},
   "outputs": [],
   "source": [
    "def split_data(x,y,split_pt):\n",
    "    mask = x > split_pt\n",
    "    anti_mask = x < split_pt\n",
    "    x_true = x[mask]\n",
    "    y_true = y[mask]\n",
    "    x_false = x[anti_mask]\n",
    "    y_false = y[anti_mask]\n",
    "    return x_true, y_true, x_false , y_false"
   ]
  },
  {
   "cell_type": "code",
   "execution_count": null,
   "id": "3482da84-6024-4e9a-87a8-eea8e1e95095",
   "metadata": {},
   "outputs": [],
   "source": [
    "x_true, y_true, x_false , y_false =split_data(int_twoDlist[:,0],int_twoDlist[:,1], 70)"
   ]
  },
  {
   "cell_type": "code",
   "execution_count": null,
   "id": "dd2c318e-e704-4b69-a536-5ded10c998ec",
   "metadata": {},
   "outputs": [],
   "source": [
    "def MAE(y, y_true, y_false):\n",
    "    y_true_hat = np.mean(y_true)\n",
    "    y_false_hat = np.mean(y_false)\n",
    "    y_hat = np.mean(y)\n",
    "        \n",
    "    old_mae = np.mean(np.absolute(y-y_hat))\n",
    "    new_mae = len(y_true)/ len(y) * np.mean(np.absolute(y_true-y_true_hat)) + \\\n",
    "              len(y_false)/ len(y) * np.mean(np.absolute(y_false-y_false_hat)) \n",
    "    return old_mae, new_mae  "
   ]
  },
  {
   "cell_type": "code",
   "execution_count": 3,
   "id": "50919894-e312-4b7e-b2a1-0c83d1200f3f",
   "metadata": {
    "tags": []
   },
   "outputs": [],
   "source": [
    "#WITH FEATURES\n",
    "def get_best_split_features(data):\n",
    "    n_feature = data.shape[1] - 1 \n",
    "    results = {}\n",
    "    for feature_idx in range(n_feature):\n",
    "        x = data[:,feature_idx]\n",
    "        y = data[:,-1]\n",
    "        split_pts = splits(x)\n",
    "        for point in split_pts:\n",
    "            x_true, y_true, x_false , y_false = split_data(x,y, point)\n",
    "            errors = MAE(y, y_true, y_false)\n",
    "            results[feature_idx,point] = errors\n",
    "    best_point = min(results,key=results.get)\n",
    "    return results,best_point"
   ]
  },
  {
   "cell_type": "code",
   "execution_count": null,
   "id": "8709b55a-d17b-45cc-814f-f8e6ac582801",
   "metadata": {},
   "outputs": [],
   "source": [
    "#split per column \n",
    "def splits_per_col(data):\n",
    "    col_split_pts = {}\n",
    "    ncols = data.shape[1]\n",
    "    for c in range(ncols):\n",
    "        split_pts = splits(data[:,c])\n",
    "        col_split_pts['col_'+ str(c)] = split_pts\n",
    "    return col_split_pts"
   ]
  },
  {
   "cell_type": "code",
   "execution_count": null,
   "id": "d2881d12-8ec5-443b-b800-e354511775e0",
   "metadata": {},
   "outputs": [],
   "source": []
  },
  {
   "cell_type": "code",
   "execution_count": null,
   "id": "d9653d22-2c9f-4822-87ed-be9a9de78ccd",
   "metadata": {},
   "outputs": [],
   "source": []
  },
  {
   "cell_type": "code",
   "execution_count": null,
   "id": "8b4df233-e7ff-4947-a6b5-1385efaee70c",
   "metadata": {},
   "outputs": [],
   "source": []
  },
  {
   "cell_type": "code",
   "execution_count": null,
   "id": "8fafa03a-1b5b-48c5-8336-449d0b11d665",
   "metadata": {},
   "outputs": [],
   "source": []
  },
  {
   "cell_type": "code",
   "execution_count": null,
   "id": "d72b9cc7-cf96-452f-8a29-2dd168fa8996",
   "metadata": {},
   "outputs": [],
   "source": []
  },
  {
   "cell_type": "code",
   "execution_count": null,
   "id": "aa86786b-530f-4fbb-9f56-fda1290814bb",
   "metadata": {},
   "outputs": [],
   "source": []
  },
  {
   "cell_type": "code",
   "execution_count": null,
   "id": "8773f3c8-0692-41da-b531-bdd4c1067ba2",
   "metadata": {},
   "outputs": [],
   "source": []
  },
  {
   "cell_type": "code",
   "execution_count": null,
   "id": "609655d8-4c30-4629-8555-e450a3eae4a7",
   "metadata": {},
   "outputs": [],
   "source": []
  },
  {
   "cell_type": "code",
   "execution_count": null,
   "id": "a34e1148-d99d-4853-95c4-854421a6d05d",
   "metadata": {},
   "outputs": [],
   "source": []
  },
  {
   "cell_type": "code",
   "execution_count": null,
   "id": "a7f6f883-daaf-4c32-b178-cf548c84ca84",
   "metadata": {},
   "outputs": [],
   "source": []
  },
  {
   "cell_type": "code",
   "execution_count": null,
   "id": "6c477dc9-9b54-4409-ab19-271ea81ff697",
   "metadata": {},
   "outputs": [],
   "source": []
  },
  {
   "cell_type": "code",
   "execution_count": null,
   "id": "6c8f6e53-f27c-4aac-9997-d848c7ddcec8",
   "metadata": {},
   "outputs": [],
   "source": []
  },
  {
   "cell_type": "code",
   "execution_count": null,
   "id": "e68e5626-0575-4535-91c1-fbf2f95d0b91",
   "metadata": {},
   "outputs": [],
   "source": []
  },
  {
   "cell_type": "code",
   "execution_count": null,
   "id": "70affd8e-3be3-4195-907d-b1eea1267de3",
   "metadata": {},
   "outputs": [],
   "source": []
  },
  {
   "cell_type": "code",
   "execution_count": null,
   "id": "ae2a2446-9bea-4bfd-af6b-6890e9c0e135",
   "metadata": {},
   "outputs": [],
   "source": []
  },
  {
   "cell_type": "code",
   "execution_count": null,
   "id": "eb8eb998-9d43-46bd-bfc5-9f39b49b3200",
   "metadata": {},
   "outputs": [],
   "source": []
  },
  {
   "cell_type": "code",
   "execution_count": null,
   "id": "9922459e-9935-47d1-bdd9-7901e7b0b438",
   "metadata": {},
   "outputs": [],
   "source": []
  },
  {
   "cell_type": "markdown",
   "id": "00165719-1756-4e21-ab26-8fa1f9fff019",
   "metadata": {},
   "source": [
    "## RF SCRATCH "
   ]
  },
  {
   "cell_type": "code",
   "execution_count": null,
   "id": "38e3d297-8bd5-4ceb-8bc0-e7aaeb8d5527",
   "metadata": {},
   "outputs": [],
   "source": [
    "def simple_rf(data):\n",
    "    bs,oob = bs_sampling(data)\n",
    "    print(f\"oob:\",oob)\n",
    "    total_features = data.shape[1]-1\n",
    "    rand_n_of_feaures = int(np.sqrt(total_features))\n",
    "    selected_features = rand.choice(total_features,rand_n_of_feaures,replace=False)\n",
    "    selected_features_with_y = np.append(selected_features,-1)\n",
    "    sample_data = bs[:,selected_features_with_y]\n",
    "    dt = create_tree(sample_data)\n",
    "    sample_oob = oob[:,selected_features]\n",
    "    preds = dt.predict(sample_oob)\n",
    "    return preds "
   ]
  },
  {
   "cell_type": "code",
   "execution_count": null,
   "id": "b1de4056-f19c-4e42-b5ac-d2aa09c23cd0",
   "metadata": {},
   "outputs": [],
   "source": [
    "def bs_sampling(data):\n",
    "    bs = rand.choice(data,data.shape[0],replace=True)\n",
    "    unique_bs = np.unique(bs, axis=0)\n",
    "    oob=[]\n",
    "    for row in data:\n",
    "        if sum(np.isin(row,unique_bs))==0:\n",
    "            oob.append(row) \n",
    "    return bs,np.array(oob)"
   ]
  },
  {
   "cell_type": "code",
   "execution_count": null,
   "id": "587093fd-8121-49ec-bcb5-7247a06be6ab",
   "metadata": {},
   "outputs": [],
   "source": [
    "from sklearn.tree import DecisionTreeRegressor\n",
    "\n",
    "def create_tree(data):\n",
    "    X = data[:,0:-1]\n",
    "    y = data[:,-1]\n",
    "    dt = DecisionTreeRegressor()\n",
    "    dt.fit(X,y)\n",
    "    return dt    "
   ]
  },
  {
   "cell_type": "code",
   "execution_count": null,
   "id": "05d280f9-5be0-4067-9c6d-612e3155f06f",
   "metadata": {},
   "outputs": [],
   "source": [
    "###Extra average proportion of oob after x runs \n",
    "oob_samples =[]\n",
    "for i in range(1,100):\n",
    "    bs = rand.choice(data,data.shape[0],replace=True)\n",
    "    n_unique_samples = np.unique(bs, axis=0).shape[0]\n",
    "    oob = (data.shape[0] - n_unique_samples) / data.shape[0]  #proportion of ooob \n",
    "    oob_samples.append(oob)\n",
    "np.mean(oob_samples)  "
   ]
  },
  {
   "cell_type": "code",
   "execution_count": null,
   "id": "87a58f82-a611-4ca1-b382-5452028b1ae2",
   "metadata": {},
   "outputs": [],
   "source": []
  },
  {
   "cell_type": "code",
   "execution_count": null,
   "id": "abb0c94f-c0c6-4312-a40e-24e4af90d5d4",
   "metadata": {},
   "outputs": [],
   "source": []
  },
  {
   "cell_type": "code",
   "execution_count": null,
   "id": "e948e6a4-6ae7-4be9-a498-d989fc0b4f8c",
   "metadata": {},
   "outputs": [],
   "source": []
  },
  {
   "cell_type": "code",
   "execution_count": null,
   "id": "4f04d300-9941-47e1-b33e-bee5e9ffacc6",
   "metadata": {},
   "outputs": [],
   "source": []
  },
  {
   "cell_type": "code",
   "execution_count": null,
   "id": "e2881f4a-fc55-40a3-9c1c-692f49e42540",
   "metadata": {},
   "outputs": [],
   "source": []
  },
  {
   "cell_type": "code",
   "execution_count": null,
   "id": "18dcaa12-b4b4-4732-85d4-6e5890489ad8",
   "metadata": {},
   "outputs": [],
   "source": []
  },
  {
   "cell_type": "code",
   "execution_count": null,
   "id": "62724688-567d-4dd1-a707-071a0de61505",
   "metadata": {},
   "outputs": [],
   "source": []
  },
  {
   "cell_type": "code",
   "execution_count": null,
   "id": "1276783f-6473-4f73-8704-2cdbf4b4174c",
   "metadata": {},
   "outputs": [],
   "source": []
  },
  {
   "cell_type": "code",
   "execution_count": null,
   "id": "a4b30a58-0b60-4fd1-93ea-5aea79452fae",
   "metadata": {},
   "outputs": [],
   "source": []
  },
  {
   "cell_type": "code",
   "execution_count": null,
   "id": "8df8e1fc-cb8d-47ee-a2d6-f6f780046cd6",
   "metadata": {},
   "outputs": [],
   "source": []
  },
  {
   "cell_type": "code",
   "execution_count": null,
   "id": "235937f6-ac76-411b-b278-b91228ac40f5",
   "metadata": {},
   "outputs": [],
   "source": []
  },
  {
   "cell_type": "code",
   "execution_count": null,
   "id": "669918f1-8c97-46f1-8408-ff34b2152c16",
   "metadata": {},
   "outputs": [],
   "source": []
  },
  {
   "cell_type": "code",
   "execution_count": null,
   "id": "623c5570-4d08-48bb-ad39-f465b56cd83f",
   "metadata": {},
   "outputs": [],
   "source": []
  },
  {
   "cell_type": "code",
   "execution_count": null,
   "id": "70b91a4f-87b8-479e-9d3b-de919143f0bb",
   "metadata": {},
   "outputs": [],
   "source": []
  },
  {
   "cell_type": "code",
   "execution_count": null,
   "id": "1d2a87eb-05c8-4645-9e74-7a8cb709846b",
   "metadata": {},
   "outputs": [],
   "source": []
  },
  {
   "cell_type": "markdown",
   "id": "eb0b3e12-45d5-41f3-8449-4f7aefc0c64e",
   "metadata": {},
   "source": [
    "### FIRST TASTE ML "
   ]
  },
  {
   "cell_type": "code",
   "execution_count": null,
   "id": "9f560cae-9019-48a7-a2d9-e613f41aefab",
   "metadata": {},
   "outputs": [],
   "source": [
    "X = rent[['bedrooms','bathrooms','latitude','longitude']]\n",
    "y = rent['price']\n",
    "import numpy as np\n",
    "unseen_sample = np.array([2,2,40,-73])\n",
    "preds = rf.predict(X)\n",
    "e = mean_absolute_error(y,preds)\n",
    "ep = e / y.mean() * 100 \n",
    "print(f\"${e:.0f} average error; {ep:.2f}% error\")"
   ]
  },
  {
   "cell_type": "code",
   "execution_count": null,
   "id": "fc8067bc-c4c5-4e63-8430-bea27c2c63a5",
   "metadata": {},
   "outputs": [],
   "source": [
    "from sklearn.model_selection import train_test_split\n",
    "X_train, X_test, y_train , y_test = train_test_split(X,y, test_size = 0.25)\n",
    "rf = RandomForestRegressor(n_estimators = 10)\n",
    "rf.fit(X_train,y_train)\n",
    "preds = rf.predict(X_test)\n",
    "e = mean_absolute_error(y_test,preds)\n",
    "ep = e / y.mean() * 100\n",
    "print(f\"${e:.0f} average error; {ep:.2f}% error\")"
   ]
  },
  {
   "cell_type": "code",
   "execution_count": null,
   "id": "2d81cd98-c8c7-40ce-99b8-3ad9880cb4fb",
   "metadata": {},
   "outputs": [],
   "source": [
    "#feature importance\n",
    "from rfpimp import *\n",
    "features_ranking = importances(rf_100, X_test, y_test)\n",
    "features_ranking\n",
    "plot_importances(features_ranking)\n",
    "features_ranking = importances(rf_100, X_test, y_test , features = ['bedrooms','bathrooms',['longitude','latitude']])\n",
    "plot_importances(features_ranking)"
   ]
  },
  {
   "cell_type": "code",
   "execution_count": null,
   "id": "369770c9-23d4-42f9-86dd-9b8a3f8aa592",
   "metadata": {
    "tags": []
   },
   "outputs": [],
   "source": [
    "#Classification\n",
    "from sklearn.datasets import load_breast_cancer\n",
    "import pandas as pd\n",
    "cancer = load_breast_cancer()\n",
    "cancer.keys()\n",
    "X = cancer.data\n",
    "y = cancer.target\n",
    "df = pd.DataFrame(X, columns = cancer.feature_names)\n",
    "df.head().T\n",
    "features = ['radius error','texture error','concave points error','symmetry error',\n",
    "          'worst texture','worst smoothness','worst symmetry']\n",
    "df= df[features]\n",
    "df.head()\n",
    "X_train, X_test, y_train , y_test = train_test_split(df,y, test_size = 0.20)\n",
    "from sklearn.ensemble import RandomForestClassifier\n",
    "from sklearn.metrics import accuracy_score , confusion_matrix\n",
    "cl = RandomForestClassifier(n_estimators=200)\n",
    "cl.fit(X_train,y_train)\n",
    "preds = cl.predict(X_test)\n",
    "e = accuracy_score(y_test,preds)\n",
    "print(f\"{e*100:.2f}% accuracy\")\n",
    "confusion_matrix(y_test,preds)\n",
    "features_ranking = importances(cl, X_test, y_test)\n",
    "features_ranking"
   ]
  },
  {
   "cell_type": "code",
   "execution_count": null,
   "id": "c38d7c64-8842-418f-8f95-309dcb87e60d",
   "metadata": {},
   "outputs": [],
   "source": [
    "df_num = df.select_dtypes(include=['number'])  #'number - int - float \n",
    "df_num\n",
    "df_num2 = df_num.drop(['GarageYrBlt' , 'LotFrontage', 'MasVnrArea'], axis = 1)  \n",
    "df_num2\n",
    "df_nonum = df.select_dtypes(include=['object'])\n",
    "df_nonum"
   ]
  },
  {
   "cell_type": "code",
   "execution_count": null,
   "id": "1aabeba9-062d-446a-bfd1-c33fe64b1cdd",
   "metadata": {},
   "outputs": [],
   "source": []
  },
  {
   "cell_type": "code",
   "execution_count": null,
   "id": "30bfcf85-b474-4ac9-b3a2-fa8a45478e07",
   "metadata": {},
   "outputs": [],
   "source": []
  },
  {
   "cell_type": "code",
   "execution_count": null,
   "id": "d51a527e-210f-4fa3-b692-ff037975ac2e",
   "metadata": {},
   "outputs": [],
   "source": []
  },
  {
   "cell_type": "code",
   "execution_count": null,
   "id": "7c380091-00dd-4534-b5a0-5609ccacf79b",
   "metadata": {},
   "outputs": [],
   "source": []
  },
  {
   "cell_type": "code",
   "execution_count": null,
   "id": "862beef8-da87-415f-b8af-ca62b0daf000",
   "metadata": {},
   "outputs": [],
   "source": []
  },
  {
   "cell_type": "code",
   "execution_count": null,
   "id": "464bc850-ad16-4e00-91c6-a92f5eb8df8c",
   "metadata": {},
   "outputs": [],
   "source": []
  },
  {
   "cell_type": "code",
   "execution_count": null,
   "id": "9d38846d-fec0-4c8c-a09d-731e03901d0c",
   "metadata": {},
   "outputs": [],
   "source": []
  },
  {
   "cell_type": "code",
   "execution_count": null,
   "id": "9a868475-815e-4071-ae79-28ff1ea22aca",
   "metadata": {},
   "outputs": [],
   "source": []
  },
  {
   "cell_type": "code",
   "execution_count": null,
   "id": "051a46ec-d619-4f26-95fe-e9f6f7254ae9",
   "metadata": {},
   "outputs": [],
   "source": []
  },
  {
   "cell_type": "code",
   "execution_count": null,
   "id": "9fbecef0-4b07-4ea4-a0eb-65ec22fdce24",
   "metadata": {},
   "outputs": [],
   "source": []
  },
  {
   "cell_type": "code",
   "execution_count": null,
   "id": "633d1f09-7c66-4ccd-aef2-9f2875d31198",
   "metadata": {},
   "outputs": [],
   "source": []
  },
  {
   "cell_type": "code",
   "execution_count": null,
   "id": "72604b40-2caf-4efd-887b-d124a3831077",
   "metadata": {},
   "outputs": [],
   "source": []
  },
  {
   "cell_type": "code",
   "execution_count": null,
   "id": "d20dd641-a363-443d-8d63-bbbe076070a7",
   "metadata": {},
   "outputs": [],
   "source": []
  },
  {
   "cell_type": "code",
   "execution_count": null,
   "id": "170797b3-4bac-4b4f-9f2e-de2ecaba9818",
   "metadata": {},
   "outputs": [],
   "source": []
  },
  {
   "cell_type": "code",
   "execution_count": null,
   "id": "a12f92ea-2819-4e01-a361-4279ac3bd1a5",
   "metadata": {},
   "outputs": [],
   "source": []
  },
  {
   "cell_type": "code",
   "execution_count": null,
   "id": "53b5780e-0e68-4873-8ca1-c8b304cf6685",
   "metadata": {},
   "outputs": [],
   "source": []
  },
  {
   "cell_type": "code",
   "execution_count": null,
   "id": "f863fca1-bd49-4d5c-a0c6-969fd6c9d09e",
   "metadata": {},
   "outputs": [],
   "source": []
  },
  {
   "cell_type": "markdown",
   "id": "573b2be9-fd6e-4dea-8bfa-4abeb125a865",
   "metadata": {},
   "source": [
    "### CATEGORICAL VAR\n"
   ]
  },
  {
   "cell_type": "markdown",
   "id": "8a294a9a-4944-457a-8688-2c50e95c67f8",
   "metadata": {},
   "source": [
    "Create a baseline model and get oob score\n",
    "This tells us that:\n",
    "- $R^2 = 1$ means our model is perfect; \n",
    "- $R^2 \\approx 0$ means our model does no better than just predicting the average;\n",
    "- $R^2 \\lt\\lt 0$ means our model does worse than predicting the average."
   ]
  },
  {
   "cell_type": "code",
   "execution_count": 8,
   "id": "6e130496-05f7-4ddb-92b6-0ebd971cfb83",
   "metadata": {
    "tags": []
   },
   "outputs": [],
   "source": [
    "from rfpimp import *"
   ]
  },
  {
   "cell_type": "code",
   "execution_count": 9,
   "id": "450419ce-e75f-4fe6-bf22-cf94fd191155",
   "metadata": {
    "tags": []
   },
   "outputs": [],
   "source": [
    "def evaluate(X, y):\n",
    "    rf = RandomForestRegressor(n_estimators=100, n_jobs=-1, oob_score=True)\n",
    "    rf.fit(X, y)\n",
    "    oob = rf.oob_score_\n",
    "    n = rfnnodes(rf)\n",
    "    h = np.median(rfmaxdepths(rf))\n",
    "    print(f\"OOB R^2 is {oob:.5f} using {n:,d} tree nodes with {h} median tree depth\")\n",
    "    return rf, oob"
   ]
  },
  {
   "cell_type": "code",
   "execution_count": 10,
   "id": "15e985b6-640a-432e-95c0-45f627abf415",
   "metadata": {
    "tags": []
   },
   "outputs": [],
   "source": [
    "def showimp(rf, X, y):\n",
    "    features = list(X.columns)\n",
    "    features.remove('latitude')\n",
    "    features.remove('longitude')\n",
    "    features += [['latitude','longitude']]\n",
    "    I = importances(rf, X, y, features=features)\n",
    "    plot_importances(I, color='#4575b4')"
   ]
  },
  {
   "cell_type": "code",
   "execution_count": null,
   "id": "1803ba7d-dc81-4d47-bffb-7c183f9663ed",
   "metadata": {},
   "outputs": [],
   "source": [
    "evaluate(X, y)\n",
    "showimp(rf, X, y)"
   ]
  },
  {
   "cell_type": "markdown",
   "id": "1e1230bb-3567-4390-8b8c-45185613b4f6",
   "metadata": {
    "tags": []
   },
   "source": [
    "##### Permutation Importance\n",
    "\n",
    "We can calculate the feature importances using a permutation method, which consists of the following steps:\n",
    "- use all features and establish a baseline value for $R^2$;\n",
    "- select one feature and randomly permute its values leaving all other features unchanged;\n",
    "- calculate the new value for $R^2$ with this one feature permuted;\n",
    "- calculate the change in $R^2$ from the baseline; and, \n",
    "- repeat for the other features."
   ]
  },
  {
   "cell_type": "code",
   "execution_count": 12,
   "id": "debbb4b2-7191-4a0e-95cf-8baf8be0e3b6",
   "metadata": {
    "tags": []
   },
   "outputs": [],
   "source": [
    "def perm_importances(X, y):\n",
    "    rf = RandomForestRegressor(n_estimators=100, n_jobs=-1, oob_score=True, random_state=999)\n",
    "    rf.fit(X, y)\n",
    "    r2 = rf.oob_score_\n",
    "    print(f\"Baseline R^2 with no columns permuted: {r2:.5f}\\n\")\n",
    "    for col in X.columns:\n",
    "        X_col = X.copy()\n",
    "        X_col[col] = X_col[col].sample(frac=1).values\n",
    "        rf.fit(X_col, y)\n",
    "        r2_col = rf.oob_score_\n",
    "        print(f\"Permuting column {col}: new R^2 is {r2_col:.5f} and difference from baseline is {r2 - r2_col:.5f}\")"
   ]
  },
  {
   "cell_type": "code",
   "execution_count": null,
   "id": "1d7e5ab0-7a36-4c40-a968-f9a15cd1a18f",
   "metadata": {
    "tags": []
   },
   "outputs": [],
   "source": [
    "perm_importances(X, y)"
   ]
  },
  {
   "cell_type": "markdown",
   "id": "b7d5fce3-f3bb-4c6d-a289-d52011f4a86b",
   "metadata": {
    "tags": []
   },
   "source": [
    "##### Dropped Column Importance\n",
    "\n",
    "We can also calculate the importance of the features using a dropped column, which consists of the following steps:\n",
    "- use all features and establish a baseline value for $R^2$;\n",
    "- select one feature and remove it from the data;\n",
    "- calculate the new value for $R^2$ with this one feature removed;\n",
    "- calculate the change in $R^2$ from the baseline; and, \n",
    "- repeat for the other features."
   ]
  },
  {
   "cell_type": "code",
   "execution_count": 15,
   "id": "4308e0ee-2935-4eb0-9645-68efe0288674",
   "metadata": {
    "tags": []
   },
   "outputs": [],
   "source": [
    "def drop_importances(X, y):\n",
    "    rf = RandomForestRegressor(n_estimators=100, n_jobs=-1, oob_score=True, random_state=999)\n",
    "    rf.fit(X, y)\n",
    "    r2 = rf.oob_score_\n",
    "    print(f\"Baseline R^2 with no columns dropped: {r2:.5f}\\n\")\n",
    "    for col in X.columns:\n",
    "        X_col = X.copy()\n",
    "        X_col = X_col.drop(col, axis=1) \n",
    "        rf.fit(X_col, y)\n",
    "        r2_col = rf.oob_score_\n",
    "        print(f\"Dropping column {col}: new R^2 is {r2_col:.5f} and difference from baseline is {r2 - r2_col:.5f}\")"
   ]
  },
  {
   "cell_type": "markdown",
   "id": "c1e73237-e188-4a49-9b5b-7ee2b6d23fd3",
   "metadata": {},
   "source": [
    "Explain RF from scratch (importance of bootstrap):\n",
    "Random Forest is an ensemble learning algorithm that consists of a collection of decision trees. Each tree is trained on a bootstrap sample of the data, where data points are randomly selected with replacement. Bootstrap sampling allows for diversity among the trees, which helps in reducing overfitting and improving generalization performance.\n",
    "\n",
    "Explain OOB score (difference from R², why it's better):\n",
    "The out-of-bag (OOB) score is an estimate of a model's accuracy using data points that were not included in the training set for each individual tree in the Random Forest. It serves as a validation metric during training and provides an unbiased estimate of the model's performance on unseen data. Unlike R², which measures the proportion of variance explained by the model, OOB score directly evaluates predictive accuracy on unseen data and is considered a better metric in certain scenarios, especially when cross-validation is computationally expensive or impractical.\n",
    "\n",
    "Meaning of R² (when it's 0 the model is no better than an average):\n",
    "R-squared (R²) quantifies the proportion of variance in the dependent variable that is explained by the independent variables in the regression model. When R² is 0, it indicates that the model does not explain any of the variability in the target variable and is no better than predicting the mean of the target variable.\n",
    "\n",
    "Why create a baseline model (compare before and after denoising):\n",
    "Creating a baseline model allows us to establish a point of reference for evaluating the effectiveness of subsequent model improvements, such as denoising. By comparing the performance metrics of the baseline model with those of the improved model, we can assess the impact of denoising techniques on model performance and determine whether the improvements are statistically significant.\n",
    "\n",
    "How feature importance method works:\n",
    "Feature importance measures the contribution of each feature to the predictive performance of the model. In Random Forest models, feature importance is calculated based on the decrease in node impurity (e.g., Gini impurity or entropy) when splitting on a particular feature. Features that result in the greatest decrease in impurity are considered the most important for making predictions.\n",
    "\n",
    "What map/one-hot-encoding/dummy_variables do:\n",
    "These techniques are used to convert categorical variables into numerical format, which is required for many machine learning algorithms. One-hot encoding and dummy variables create binary columns for each category in a categorical variable, while mapping assigns numerical values to categories. This allows models to interpret categorical data effectively.\n",
    "\n",
    "Why accuracy is not appropriate compared to F1:\n",
    "Accuracy measures the proportion of correctly classified instances in a classification task, but it can be misleading when classes are imbalanced. F1 score, on the other hand, considers both precision (true positive rate) and recall (sensitivity) and is more suitable for imbalanced datasets because it provides a balanced assessment of model performance across different classes.\n",
    "\n",
    "Something about missing values (methods to deal with missing values, like replace with 0 or delete):\n",
    "Dealing with missing values is essential to prevent bias and ensure the accuracy of models. Common methods include imputation (replacing missing values with a calculated estimate, such as the mean or median), deletion (removing rows or columns with missing values), or using advanced techniques like predictive modeling to estimate missing values based on other features in the dataset. Each method has its advantages and disadvantages depending on the specific context of the data."
   ]
  },
  {
   "cell_type": "code",
   "execution_count": null,
   "id": "d5692271-3982-4852-b200-6f4a8fca924b",
   "metadata": {},
   "outputs": [],
   "source": []
  }
 ],
 "metadata": {
  "kernelspec": {
   "display_name": "Python 3 (ipykernel)",
   "language": "python",
   "name": "python3"
  },
  "language_info": {
   "codemirror_mode": {
    "name": "ipython",
    "version": 3
   },
   "file_extension": ".py",
   "mimetype": "text/x-python",
   "name": "python",
   "nbconvert_exporter": "python",
   "pygments_lexer": "ipython3",
   "version": "3.11.4"
  }
 },
 "nbformat": 4,
 "nbformat_minor": 5
}
