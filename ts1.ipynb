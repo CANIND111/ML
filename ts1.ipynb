{
  "nbformat": 4,
  "nbformat_minor": 0,
  "metadata": {
    "colab": {
      "private_outputs": true,
      "provenance": [],
      "authorship_tag": "ABX9TyMaA4hrCkkjdmsETgnj4+SJ",
      "include_colab_link": true
    },
    "kernelspec": {
      "name": "python3",
      "display_name": "Python 3"
    },
    "language_info": {
      "name": "python"
    }
  },
  "cells": [
    {
      "cell_type": "markdown",
      "metadata": {
        "id": "view-in-github",
        "colab_type": "text"
      },
      "source": [
        "<a href=\"https://colab.research.google.com/github/CANIND111/ML/blob/main/S123.ipynb\" target=\"_parent\"><img src=\"https://colab.research.google.com/assets/colab-badge.svg\" alt=\"Open In Colab\"/></a>"
      ]
    },
    {
      "cell_type": "code",
      "source": [
        "from scipy.stats import poisson, norm, binom, nbinom, geom\n",
        "import math\n",
        "import numpy as np\n",
        "import scipy.stats as stats\n",
        "import numpy"
      ],
      "metadata": {
        "id": "uU35O1nJYMo8"
      },
      "execution_count": null,
      "outputs": []
    },
    {
      "cell_type": "code",
      "source": [
        "# Normal Distribution\n",
        "mu = 0\n",
        "std = 1\n",
        "z = 0.6\n",
        "normal_prob = norm.cdf(z, mu, std)   #z>0.6 = 1-norm.cdf  #pdf = 0.6  #ppf  cutt off point three same parameters\n",
        "\n",
        "print(\"Normal probability for x =\", z, \":\", normal_prob)"
      ],
      "metadata": {
        "id": "oaGdZpXQdK8p"
      },
      "execution_count": null,
      "outputs": []
    },
    {
      "cell_type": "code",
      "source": [
        "# Binomial Distribution\n",
        "n = 10\n",
        "p = 0.5\n",
        "k = 5 #k<5\n",
        "binomial_prob = binom.cdf(k, n, p)  #k>5  1-binom.cdf  # k=2 pmf # cutt of binom.ppf\n",
        "\n",
        "print(\"Binomial probability for k =\", k, \":\", binomial_prob)"
      ],
      "metadata": {
        "id": "UaQZ56EgdPu4"
      },
      "execution_count": null,
      "outputs": []
    },
    {
      "cell_type": "code",
      "source": [
        "#Binomial Distribution\n",
        "n = 50\n",
        "p = 0.5\n",
        "k = 36\n",
        "binomial_prob = binom.pmf(k, n, p)  #cdf.k>5  1-binom.cdf  # k=2 pmf # cutt of binom.ppf\n",
        "print(\"Binomial probability for k =\", k, \":\", binomial_prob)"
      ],
      "metadata": {
        "id": "g46bw2S86Xyn"
      },
      "execution_count": null,
      "outputs": []
    },
    {
      "cell_type": "code",
      "source": [
        "from scipy.stats import poisson, norm, binom, nbinom, geom\n",
        "\n",
        "# Poisson Distribution\n",
        "lambda_param = 0.2857\n",
        "x_poisson = 3\n",
        "poisson_prob = poisson.pmf(x_poisson, lambda_param)\n",
        "print(\"Poisson probability for x =\", x_poisson, \":\", poisson_prob)"
      ],
      "metadata": {
        "id": "onAkcGl65jGq"
      },
      "execution_count": null,
      "outputs": []
    },
    {
      "cell_type": "code",
      "source": [
        "lambda_param = 2\n",
        "x_poisson = 1\n",
        "poisson_prob = poisson.pmf(x_poisson, lambda_param)\n",
        "print(\"Poisson probability for x =\", x_poisson, \":\", poisson_prob)"
      ],
      "metadata": {
        "id": "rlTsoWpDdjn6"
      },
      "execution_count": null,
      "outputs": []
    },
    {
      "cell_type": "code",
      "source": [
        "#Poisson distribution\n",
        "import math\n",
        "p = ((2**1) * (math.e**-2)/ math.factorial(1))\n",
        "p"
      ],
      "metadata": {
        "id": "i2C4GZkJ1PRt"
      },
      "execution_count": null,
      "outputs": []
    },
    {
      "cell_type": "code",
      "source": [
        "lambda_param = 6/7\n",
        "x_poisson = 4\n",
        "poisson_prob = poisson.pmf(x_poisson, lambda_param)\n",
        "print(\"Poisson probability for x =\", x_poisson, \":\", poisson_prob)\n"
      ],
      "metadata": {
        "id": "05_TwCDLADvt"
      },
      "execution_count": null,
      "outputs": []
    },
    {
      "cell_type": "code",
      "source": [
        "import math\n",
        "p = (((6/7)**4) * (math.e**(-6/7))/ math.factorial(4))\n",
        "p"
      ],
      "metadata": {
        "id": "EpAulIlEAIGv"
      },
      "execution_count": null,
      "outputs": []
    },
    {
      "cell_type": "code",
      "source": [
        "#Negative Binomial\n",
        "r = 10  # Number of successes\n",
        "x = 20  # Number of failures before achieving the tenth success\n",
        "p = 0.10  # Probability of success on each trial\n",
        "\n",
        "nbinomial_prob = nbinom.pmf(x, r, p)\n",
        "print(\"Negative Binomial probability for x =\", x, \":\", nbinomial_prob)"
      ],
      "metadata": {
        "id": "gYJEqig-dRnf"
      },
      "execution_count": null,
      "outputs": []
    },
    {
      "cell_type": "code",
      "source": [
        "# Negative binomial real result\n",
        "p = 0.10    #10%\n",
        "k = 10   #10couples\n",
        "n = 30    #30trials\n",
        "import math\n",
        "#formula poisson = (math.comb(n-1, k-1))*((p)**k)*((1-p)**n-k)\n",
        "a = (math.comb(29,9))*((0.10)**10)*((0.90)**20)\n",
        "a"
      ],
      "metadata": {
        "id": "rYtqWOWsgKh0"
      },
      "execution_count": null,
      "outputs": []
    },
    {
      "cell_type": "code",
      "source": [
        "# Geometric Distribution\n",
        "p_geom = 0.35  #prob success\n",
        "k_geom = 3 #trials\n",
        "geometric_prob = geom.pmf(k_geom, p_geom)\n",
        "print(\"Geometric probability for k =\", k_geom, \":\", geometric_prob)"
      ],
      "metadata": {
        "id": "HY09-t1gdTnk"
      },
      "execution_count": null,
      "outputs": []
    },
    {
      "cell_type": "code",
      "source": [
        "p_geom = 0.35\n",
        "k_geom = 10 #trials\n",
        "geometric_prob = geom.pmf(k_geom, p_geom)\n",
        "print(\"Geometric probability for k =\", k_geom, \":\", geometric_prob)"
      ],
      "metadata": {
        "id": "kSJxn6ppeG39"
      },
      "execution_count": null,
      "outputs": []
    },
    {
      "cell_type": "code",
      "source": [
        "import numpy as np\n",
        "p = 0.80  # Proportion of students who love statistics\n",
        "n = 25  # Sample size\n",
        "p_hat = n * p  # Expected number of students who love statistics in the sample\n",
        "print(f\" p_hat: {p_hat}\")\n",
        "\n",
        "# Calculate standard error\n",
        "standard_error = np.sqrt(p * (1 - p) / n)\n",
        "print(standard_error)\n",
        "\n",
        "#Limits\n",
        "upper_limit = (p + standard_error)*100\n",
        "print(upper_limit)\n",
        "lower_limit = (p - standard_error)*100\n",
        "print(lower_limit)"
      ],
      "metadata": {
        "id": "rajQE0ALgWm5"
      },
      "execution_count": null,
      "outputs": []
    },
    {
      "cell_type": "code",
      "source": [
        "#Confidence Interval\n",
        "import numpy as np\n",
        "from scipy.stats import norm\n",
        "import matplotlib.pyplot as plt\n",
        "np.random.seed(42)\n",
        "students = np.random.binomial(n=1, p=0.25, size=1000)  # 0: Right-handed, 1: Left-handed\n",
        "estimated_proportion = 0.80\n",
        "total_students = 500\n",
        "z_score = norm.ppf(0.95)  # for 95% confidence\n",
        "margin_of_error = z_score * np.sqrt((estimated_proportion * (1 - estimated_proportion)) / total_students)\n",
        "lower_bound = estimated_proportion - margin_of_error\n",
        "upper_bound = estimated_proportion + margin_of_error\n",
        "\n",
        "print(f\"95% Confidence Interval: ({lower_bound}, {upper_bound})\")"
      ],
      "metadata": {
        "id": "XOBlcKsX0XIq"
      },
      "execution_count": null,
      "outputs": []
    },
    {
      "cell_type": "code",
      "source": [
        "# Hyypothesis testing for a proportion two tailed\n",
        "null_hypothesis_proportion = 0.40  # Hypothesized value\n",
        "estimated_proportion = 0.55  # Sample proportion\n",
        "total_students = 100  # Total number of observations in the sample\n",
        "\n",
        "# Compute Z-statistic\n",
        "z_statistic = (estimated_proportion - null_hypothesis_proportion) / np.sqrt((null_hypothesis_proportion * (1 - null_hypothesis_proportion)) / total_students)\n",
        "\n",
        "# Calculate p-value\n",
        "p_value = 2 * (1 - norm.cdf(np.abs(z_statistic)))\n",
        "\n",
        "print(\"Z-statistic:\", z_statistic)\n",
        "print(\"p-value:\", p_value)\n"
      ],
      "metadata": {
        "id": "W4lx5EAN05FX"
      },
      "execution_count": null,
      "outputs": []
    },
    {
      "cell_type": "code",
      "source": [
        "#Single proportion\n",
        "null_hypothesis_proportion = 0.40  # Hypothesized value\n",
        "estimated_proportion = 0.55  # Sample proportion\n",
        "total_students = 100  # Total number of observations in the sample\n",
        "\n",
        "# Compute Z-statistic\n",
        "z_statistic = (estimated_proportion - null_hypothesis_proportion) / np.sqrt((null_hypothesis_proportion * (1 - null_hypothesis_proportion)) / total_students)\n",
        "\n",
        "# Calculate p-value for a one-tailed test\n",
        "if estimated_proportion < null_hypothesis_proportion:\n",
        "    # Right-tailed test: p-value is the probability of getting a Z-statistic greater than the observed one\n",
        "    p_value = 1 - norm.cdf(z_statistic)\n",
        "else:\n",
        "    # Left-tailed test: p-value is the probability of getting a Z-statistic less than the observed one\n",
        "    p_value = norm.cdf(z_statistic)\n",
        "\n",
        "print(\"Z-statistic:\", z_statistic)\n",
        "print(\"p-value:\", p_value)"
      ],
      "metadata": {
        "id": "BcEwBLC11eb4"
      },
      "execution_count": null,
      "outputs": []
    },
    {
      "cell_type": "code",
      "source": [
        "#Success failure condition\n",
        "n = 1000\n",
        "p = 0.88\n",
        "np = n * p\n",
        "print(np)\n",
        "n_p = n * (1 - p)\n",
        "print(n_p)  ## both result are greater than 10 so the condition is satisfied"
      ],
      "metadata": {
        "id": "dhpHG4AGDkBk"
      },
      "execution_count": null,
      "outputs": []
    },
    {
      "cell_type": "markdown",
      "source": [
        "1. An e-comerce research company claims taht 65% or more graduates students have bought merchandise online. A consumer group is suspicious of the claim and thinks that the proportion is loweer than 65%. A random sample of 85 graduate students shows that only 22 students have ever done so. Is there enough evidence to show that the true proportion is lower than 65%?\n",
        "\n",
        "Conduct a test at 5% Type error rate and use a p-value and rejection region approaches. ![z-score.png](data:image/png;base64,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)\n",
        "\n"
      ],
      "metadata": {
        "id": "mvfVKSiXw8Ua"
      }
    },
    {
      "cell_type": "code",
      "source": [
        "# Set up the null and alternative hypotheses\n",
        "null_hypothesis = 0.65\n",
        "alternative_hypothesis = 0.65\n",
        "\n",
        "# Calculate the sample proportion\n",
        "sample_proportion = 22 / 85\n",
        "\n",
        "# Calculate the z-statistic\n",
        "z_score = (sample_proportion - null_hypothesis) / np.sqrt(null_hypothesis * (1 - null_hypothesis) / 85)\n",
        "print(z_score)\n",
        "\n",
        "# Calculate the p-value\n",
        "p_value = norm.cdf(z_score)\n",
        "print(p_value)\n",
        "\n",
        "# Set the significance level\n",
        "alpha = 0.05\n",
        "\n",
        "# Make a decision based on the p-value\n",
        "if p_value < alpha:\n",
        "    print(\"Reject the null hypothesis.\")\n",
        "else:\n",
        "    print(\"Fail to reject the null hypothesis.\")\n",
        "\n",
        "# Make a decision based on the rejection region\n",
        "if z_score < -1.645:\n",
        "    print(\"Reject the null hypothesis.\")\n",
        "else:\n",
        "    print(\"Fail to reject the null hypothesis.\")"
      ],
      "metadata": {
        "id": "Knn5WSpW5Z90"
      },
      "execution_count": null,
      "outputs": []
    },
    {
      "cell_type": "markdown",
      "source": [
        "2.A biologist is studying a particular species of flower known for its rare blooming cycle. She finds that there is a 10% chance of seeing a bloom on any given day during the peak season. What is the probability that she observes the first bloom on the fifth day?\n"
      ],
      "metadata": {
        "id": "KylZQ4347VYC"
      }
    },
    {
      "cell_type": "code",
      "source": [
        "#Geometric\n",
        "p = 0.1\n",
        "q = 1 - p\n",
        "answer = (q**4)*(p**1)\n",
        "print(answer)"
      ],
      "metadata": {
        "id": "jdGh7hstLUbW"
      },
      "execution_count": null,
      "outputs": []
    },
    {
      "cell_type": "code",
      "source": [
        "from scipy.stats import geom\n",
        "p_geom = 0.1  #prob success\n",
        "k_geom = 5 #trials\n",
        "geometric_prob = geom.pmf(k_geom, p_geom)\n",
        "print(geometric_prob)"
      ],
      "metadata": {
        "id": "MgthzNb08FXR"
      },
      "execution_count": null,
      "outputs": []
    },
    {
      "cell_type": "markdown",
      "source": [
        "3.A local bookstore claims that 50% of its customers are repeat customers. A random sajmple of 120 customers shows that 75 of then are repeat customers. To test the bookstores season. Pick the correct null and alternative hypothesis"
      ],
      "metadata": {
        "id": "mN-_YTCTx18B"
      }
    },
    {
      "cell_type": "markdown",
      "source": [
        "H0 = u = 50\n",
        "HA = u > 50\n",
        "\n",
        "H0= p: 0.5 h1: p != 0\n",
        "H0= p: 0.5 h1: p != 0.50 ---> real"
      ],
      "metadata": {
        "id": "IgpWVSfl9C05"
      }
    },
    {
      "cell_type": "markdown",
      "source": [
        "\n",
        "4.An oil company conducted a geological study that indicates that an exploratory oil well should have a 20% chance of striking oil. What is the probability that the third strike comes on the seventh well-drilled?  "
      ],
      "metadata": {
        "id": "0GExi4-ix3s1"
      }
    },
    {
      "cell_type": "code",
      "source": [
        "#Negative binomial\n",
        "import math\n",
        "n = 7\n",
        "k = 3\n",
        "p = 0.20\n",
        "comb = math.comb(6,2)\n",
        "print(comb)\n",
        "neg = comb * (p**k) * ((1-p)**(n-k))\n",
        "print(neg)"
      ],
      "metadata": {
        "id": "Dkyn8swZyQw4"
      },
      "execution_count": null,
      "outputs": []
    },
    {
      "cell_type": "code",
      "source": [
        "a = (math.comb(6,2))*((0.20)**3)*((0.80)**4)\n",
        "a"
      ],
      "metadata": {
        "id": "quFURF6QATgT"
      },
      "execution_count": null,
      "outputs": []
    },
    {
      "cell_type": "markdown",
      "source": [
        "5. What is the difference between a point estimate and a parameter of interest?"
      ],
      "metadata": {
        "id": "fUV7EFcNyR5Y"
      }
    },
    {
      "cell_type": "markdown",
      "source": [
        "A point estimate is a single value calculated from sample data that serves as an estimate or guess for a population parameter. For exmaple: the sample mean is a point estimate for the population mean.\n",
        "A parameter of interest is a characteristic or numerical measure about a population that we want to understand, but typically cannot be known precisely. For example, the population mean or proportion is a parameter of interest that we often estimate using point estimates from sample data."
      ],
      "metadata": {
        "id": "wTZQjT6uB1dh"
      }
    },
    {
      "cell_type": "markdown",
      "source": [
        "6. In 1980, of 700 men 20-34 years old, 150 were found to be overweight/ Whereas, in 1990, of 750 men, 20-34, 170 were found to be overweight.\n",
        "At a 5% significant level, do the data provide sufficient evidence to conclude that, for men 20-34 years old, a higher percentage were overweight in 1990 than 10 years earlier?"
      ],
      "metadata": {
        "id": "Ipid7Fb8zNts"
      }
    },
    {
      "cell_type": "code",
      "source": [
        "#Hypothesis testing\n",
        "import numpy as np\n",
        "from scipy.stats import norm\n",
        "\n",
        "# Data for 1980\n",
        "men_1980 = 700\n",
        "overweight_1980 = 150\n",
        "proportion_1980 = overweight_1980 / men_1980\n",
        "\n",
        "# Data for 1990\n",
        "men_1990 = 750\n",
        "overweight_1990 = 170\n",
        "proportion_1990 = overweight_1990 / men_1990\n",
        "\n",
        "# Calculate the difference in proportions\n",
        "difference_proportions = proportion_1990 - proportion_1980\n",
        "\n",
        "# Calculate the standard error of the difference in proportions\n",
        "standard_error = np.sqrt((proportion_1980 * (1 - proportion_1980)) / men_1980 +\n",
        "                         (proportion_1990 * (1 - proportion_1990)) / men_1990)\n",
        "\n",
        "# Compute the z-score\n",
        "z_score = difference_proportions / standard_error\n",
        "\n",
        "# Calculate the p-value\n",
        "p_value = 2 * (1 - norm.cdf(np.abs(z_score)))  # Two-tailed test\n",
        "\n",
        "# Print results\n",
        "print(\"Difference in proportions:\", difference_proportions)\n",
        "print(\"Z-score:\", z_score)\n",
        "print(\"P-value:\", p_value)\n",
        "\n",
        "# Check significance level\n",
        "alpha = 0.05\n",
        "if p_value < alpha:\n",
        "    print(\"There is sufficient evidence to conclude that a higher percentage were overweight in 1990 than in 1980.\")\n",
        "else:\n",
        "    print(\"There is not sufficient evidence to conclude that a higher percentage were overweight in 1990 than in 1980.\")\n"
      ],
      "metadata": {
        "id": "LEcV1RWPzORg"
      },
      "execution_count": null,
      "outputs": []
    },
    {
      "cell_type": "markdown",
      "source": [
        "**Right-Tailed Test**: This is used when your alternative hypothesis (Hₐ) suggests that the parameter of interest is greater than a certain value. For example, Hₐ: μ > μ₀, where μ₀ is the hypothesized population mean. In this case, the p-value is calculated as 1 - norm.cdf(z_statistic), which gives the probability of observing a Z-statistic greater than the one calculated from your sample data, assuming the null hypothesis is true. It essentially measures the area to the right of your observed Z-statistic under the standard normal curve.\n",
        "\n",
        "**Left-Tailed Test**: This is applied when your alternative hypothesis suggests that the parameter of interest is less than a certain value, e.g., Hₐ: μ < μ₀. Here, the p-value is norm.cdf(z_statistic), representing the probability of observing a Z-statistic less than or equal to the observed value under the null hypothesis. This calculates the area to the left of your observed Z-statistic under the standard normal curve.\n",
        "\n",
        "The if statement checks whether your sample mean is greater than the hypothesized population mean (null_hypothesis_proportion). If it is, you conduct a right-tailed test; otherwise, you proceed with a left-tailed test.\n",
        "\n",
        "**norm.cdf(z_statistic)**computes the cumulative distribution function for the standard normal distribution at the observed Z-statistic, which gives the area under the curve to the left of this Z-value.\n",
        "**1 - norm.cdf(z_statistic)** computes the area under the curve to the right of the observed Z-value, which is relevant for a right-tailed test.\n",
        "After calculating the p-value, the code prints both the Z-statistic and the p-value. If the p-value is less than your chosen significance level (commonly 0.05), it indicates significant evidence against the null hypothesis in favor of the alternative hypothesis, as per the direction specified by the test (right or left-tailed)."
      ],
      "metadata": {
        "id": "J5nCUbNT0HDX"
      }
    },
    {
      "cell_type": "markdown",
      "source": [
        "### OTHER EXAMPLES"
      ],
      "metadata": {
        "id": "0osKVd1vEPjG"
      }
    },
    {
      "cell_type": "markdown",
      "source": [
        "7.What is the probability that a person succeeds on their 5th\n",
        "attempt if the probability of success on any given attempt is 0.2,\n",
        "assuming each attempt is independent?"
      ],
      "metadata": {
        "id": "6Klo75NSFCD0"
      }
    },
    {
      "cell_type": "code",
      "source": [
        "#Geometric\n",
        "p = 0.2\n",
        "q = 1 - p\n",
        "geo = (p**1) *(q**4)\n",
        "geo"
      ],
      "metadata": {
        "id": "0zCcunOh0H1Q"
      },
      "execution_count": null,
      "outputs": []
    },
    {
      "cell_type": "code",
      "source": [
        "from scipy.stats import geom\n",
        "p_geom = 0.2  #prob success\n",
        "k_geom = 5 #trials\n",
        "geometric_prob = geom.pmf(k_geom, p_geom)\n",
        "print(geometric_prob)"
      ],
      "metadata": {
        "id": "mz6TbB6BFjnP"
      },
      "execution_count": null,
      "outputs": []
    },
    {
      "cell_type": "markdown",
      "source": [
        "8. A call center receives an average of 12 calls per hour. What is the\n",
        "probability that they will receive exactly 15 calls in the next hour"
      ],
      "metadata": {
        "id": "C9t2BESkGn3I"
      }
    },
    {
      "cell_type": "code",
      "source": [
        "import scipy.stats as stats\n",
        "lambda_ = 12  # average number of calls per hour\n",
        "probability = stats.poisson.pmf(15, lambda_)\n",
        "print(probability)\n"
      ],
      "metadata": {
        "id": "uInJo0pbGoWC"
      },
      "execution_count": null,
      "outputs": []
    },
    {
      "cell_type": "code",
      "source": [
        "import math\n",
        "p = (((12)**15) * (math.e**(-12))/ math.factorial(15))\n",
        "p"
      ],
      "metadata": {
        "id": "HoEK2JfRHfpz"
      },
      "execution_count": null,
      "outputs": []
    },
    {
      "cell_type": "markdown",
      "source": [
        "9. If a basketball player makes a basket with a probability of 0.3, what\n",
        "is the probability that the player will make their third basket on\n",
        "their 10th attempt?"
      ],
      "metadata": {
        "id": "RdpS1O7MH2Ld"
      }
    },
    {
      "cell_type": "code",
      "source": [
        "#Negative binomial\n",
        "import math\n",
        "n = 10\n",
        "k = 3\n",
        "p = 0.3\n",
        "comb = math.comb(9,2)\n",
        "print(comb)\n",
        "neg = comb * (p**k) * ((1-p)**(n-k))\n",
        "print(neg)"
      ],
      "metadata": {
        "id": "j1Y7BoUzH6Dm"
      },
      "execution_count": null,
      "outputs": []
    },
    {
      "cell_type": "code",
      "source": [
        "from scipy.stats import nbinom\n",
        "k = 3  # Number of successes\n",
        "n = 7  # Number of failures before achieving the tenth success\n",
        "p = 0.30  # Probability of success on each trial\n",
        "\n",
        "nbinomial_prob = nbinom.pmf(n, k, p)\n",
        "print(\"Negative Binomial probability for n =\", n, \":\", nbinomial_prob)"
      ],
      "metadata": {
        "id": "_6yuGVDlIKvl"
      },
      "execution_count": null,
      "outputs": []
    },
    {
      "cell_type": "markdown",
      "source": [
        "10.Explain the difference between a Type I error and a Type II error in\n",
        "hypothesis testing."
      ],
      "metadata": {
        "id": "t5CmWOvBI0g3"
      }
    },
    {
      "cell_type": "markdown",
      "source": [
        "A Type I error occurs when the null hypothesis is true, but we incorrectly\n",
        "reject it. A Type II error occurs when the null hypothesis is false, but we fail to\n",
        "reject it."
      ],
      "metadata": {
        "id": "G4bliRRdJvqT"
      }
    },
    {
      "cell_type": "markdown",
      "source": [
        "11. Construct a 95% confidence interval for the proportion of the\n",
        "population that prefers brand A given 60 out of 200 people\n",
        "surveyed prefer it.\n"
      ],
      "metadata": {
        "id": "HhJ_0ZBiJxyP"
      }
    },
    {
      "cell_type": "code",
      "source": [
        "p = 60/200\n",
        "print(p)\n",
        "n = 200\n",
        "SE = (np.sqrt((p*(1-p))/n))*2\n",
        "print(SE)\n",
        "Upper_l = p + SE\n",
        "print(Upper_l)\n",
        "Lower_l = p - SE\n",
        "print(Lower_l)"
      ],
      "metadata": {
        "id": "_433jonYJ3Dl"
      },
      "execution_count": null,
      "outputs": []
    },
    {
      "cell_type": "code",
      "source": [
        "import numpy as np\n",
        "n = 200\n",
        "successes = 60\n",
        "p = successes / n\n",
        "se = np.sqrt(p * (1 - p) / n)\n",
        "\n",
        "# Calculate the 95% confidence interval 1.96 z score of 95%\n",
        "ci = (p - 1.96 * se, p + 1.96 * se)\n",
        "print(\"95% confidence interval:\", ci)"
      ],
      "metadata": {
        "id": "pYzGEMJXKuUu"
      },
      "execution_count": null,
      "outputs": []
    },
    {
      "cell_type": "markdown",
      "source": [
        "12. A marketing study finds that 230 out of 600 sampled smartphone\n",
        "users prefer a particular brand. Is there evidence at the 1%\n",
        "significance level to suggest that less than 40% of all smartphone\n",
        "users prefer this brand?"
      ],
      "metadata": {
        "id": "RNK7_ktEPDx4"
      }
    },
    {
      "cell_type": "code",
      "source": [
        "p = 230/600\n",
        "n = 600\n",
        "sig_leve = 0.01\n",
        "null = 0.40\n",
        "z_statis = (p - null)/ np.sqrt(((p) * (1-p))/n)\n",
        "print(z_statis)\n",
        "p_val = norm.cdf(z_statis)\n",
        "print(p_val)"
      ],
      "metadata": {
        "id": "M7tbdexwPFcW"
      },
      "execution_count": null,
      "outputs": []
    },
    {
      "cell_type": "code",
      "source": [
        "import scipy.stats as stats\n",
        "\n",
        "n = 600\n",
        "successes = 230\n",
        "p = successes / n\n",
        "null_proportion = 0.4\n",
        "alpha = 0.01\n",
        "z_statistic = (p - null_proportion) / np.sqrt(null_proportion * (1 - null_proportion) / n)\n",
        "p_value = stats.norm.cdf(z_statistic)\n",
        "print(p_value)\n",
        "\n",
        "# Make a decision\n",
        "if p_value < alpha:\n",
        "    print(\"Reject the null hypothesis.\")\n",
        "else:\n",
        "    print(\"Fail to reject the null hypothesis.\")\n",
        "\n",
        "# Conclusion\n",
        "if p_value < alpha:\n",
        "    print(\"There is sufficient evidence to suggest that less than 40% of all smartphone users prefer this brand.\")\n",
        "else:\n",
        "    print(\"There is not sufficient evidence to suggest that less than 40% of all smartphone users prefer this brand.\")"
      ],
      "metadata": {
        "id": "MfmUaY6dR-sH"
      },
      "execution_count": null,
      "outputs": []
    },
    {
      "cell_type": "markdown",
      "source": [
        "13.Two different landing pages were tested for a website to see which\n",
        "one has a higher conversion rate. Page A had 42 conversions out\n",
        "of 500 visitors, and Page B had 58 conversions out of 550 visitors.\n",
        "Test at the 5% significance level whether there is a significant\n",
        "difference in conversion rates between the two pages.\n"
      ],
      "metadata": {
        "id": "viKDTe-LRR6E"
      }
    },
    {
      "cell_type": "code",
      "source": [
        "# Calculate the sample proportions\n",
        "p1 = 42 / 500\n",
        "p2 = 58 / 550\n",
        "\n",
        "# Calculate the pooled proportion\n",
        "p_pooled = (42 + 58) / (500 + 550)\n",
        "\n",
        "# Calculate the z-statistic\n",
        "z = (p1 - p2) / np.sqrt(p_pooled * (1 - p_pooled) * ((1 / 500) + (1 / 550)))\n",
        "\n",
        "# Calculate the p-value\n",
        "p_value = 2 * (1 - norm.cdf(abs(z)))\n",
        "print(p_value)\n",
        "\n",
        "# Set the significance level\n",
        "alpha = 0.05\n",
        "\n",
        "# Make a decision\n",
        "if p_value < alpha:\n",
        "    print(\"Reject the null hypothesis.\")\n",
        "else:\n",
        "    print(\"Fail to reject the null hypothesis.\")\n",
        "\n",
        "# Conclusion\n",
        "if p_value < alpha:\n",
        "    print(\"There is sufficient evidence to conclude that there is a significant difference in conversion rates between the two pages.\")\n",
        "else:\n",
        "    print(\"There is not sufficient evidence to conclude that there is a significant difference in conversion rates between the two pages.\")\n"
      ],
      "metadata": {
        "id": "uy5BTjq7Th4m"
      },
      "execution_count": null,
      "outputs": []
    },
    {
      "cell_type": "markdown",
      "source": [
        "14. A person is practicing archery and has a 20% chance of hitting the target with each shot.\n",
        "What is the probability that the person hits the target for the first time on the third shot?\n"
      ],
      "metadata": {
        "id": "whH8y-qPUg_e"
      }
    },
    {
      "cell_type": "code",
      "source": [
        "p = 0.20\n",
        "q = 1 - p\n",
        "geoo = (p**1) * (q**2)\n",
        "geoo"
      ],
      "metadata": {
        "id": "GJeCiPXNUhgJ"
      },
      "execution_count": null,
      "outputs": []
    },
    {
      "cell_type": "markdown",
      "source": [
        "15. A bookstore averages 3 customers every hour. What is the probability that exactly 5\n",
        "customers visit in a particular hour?"
      ],
      "metadata": {
        "id": "-j3pT-ZuVARD"
      }
    },
    {
      "cell_type": "code",
      "source": [
        "re = poisson.pmf(5,3)\n",
        "re"
      ],
      "metadata": {
        "id": "qfLRWvIMVGYr"
      },
      "execution_count": null,
      "outputs": []
    }
  ]
}
