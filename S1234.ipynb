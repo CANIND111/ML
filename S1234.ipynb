{
  "nbformat": 4,
  "nbformat_minor": 0,
  "metadata": {
    "colab": {
      "private_outputs": true,
      "provenance": [],
      "authorship_tag": "ABX9TyN90Kla7HI9C2ton1mnQW4T",
      "include_colab_link": true
    },
    "kernelspec": {
      "name": "python3",
      "display_name": "Python 3"
    },
    "language_info": {
      "name": "python"
    }
  },
  "cells": [
    {
      "cell_type": "markdown",
      "metadata": {
        "id": "view-in-github",
        "colab_type": "text"
      },
      "source": [
        "<a href=\"https://colab.research.google.com/github/CANIND111/ML/blob/main/S1234.ipynb\" target=\"_parent\"><img src=\"https://colab.research.google.com/assets/colab-badge.svg\" alt=\"Open In Colab\"/></a>"
      ]
    },
    {
      "cell_type": "markdown",
      "source": [
        "1. A researcher conducts a two-mean hypothesis test with a significant level of 0.05. If the power of the test is 0.80, what can be concluded about the probability of correctly rejecting the null hypothesis?\n",
        "\n",
        "R. There is a 0.80 probability of correctly rejecting the null hypothesis.\n",
        "\n",
        "The power of a statistical test is the probability of correctly rejecting the null hypothesis when it is indeed false. In other words, it measures the ability of the test to detect a true effect or difference.\n",
        "\n",
        "Given that the power of the test is 0.80, it means that the probability of correctly rejecting the null hypothesis when it is false is 0.80 or 80%.\n",
        "\n",
        "In practical terms, this suggests that if there truly is a difference between the means being tested (i.e., the null hypothesis is false), there is an 80% chance that the statistical test will correctly identify this difference and reject the null hypothesis at the chosen significance level of 0.05.\n",
        "\n",
        "Therefore, a power of 0.80 indicates a relatively high likelihood of detecting a true effect if it exists, given the chosen significance level."
      ],
      "metadata": {
        "id": "zRAZjD49WDmz"
      }
    },
    {
      "cell_type": "markdown",
      "source": [
        "2. A pharmaceutical company is conducting a clinical trial to test the efficacy of a new drug for lowering blood pressure. Previous studies suggest that the standard deviation of blood pressure reduction with the existing drug is 12 mmHg. The company wants to detect a mean reduction of at least 6 mmHg with the new drug, with a power of 0.85 at a significance level of 0.05. How many patients should be enrolled in the trial?\n",
        "R. 29"
      ],
      "metadata": {
        "id": "3L8SFZkuWLj4"
      }
    },
    {
      "cell_type": "code",
      "source": [
        "from scipy.stats import norm\n",
        "\n",
        "# Given data\n",
        "alpha = 0.05  # significance level\n",
        "power = 0.85  # desired power\n",
        "sigma = 12    # standard deviation of blood pressure reduction with the existing drug\n",
        "mu1 = 0       # mean reduction of the existing drug (assuming it's 0)\n",
        "mu2 = 6       # mean reduction expected with the new drug\n",
        "\n",
        "# Calculate critical values\n",
        "Z_alpha_over_2 = norm.ppf(1 - alpha/2)\n",
        "Z_beta = norm.ppf(power)\n",
        "\n",
        "# Calculate sample size per group\n",
        "n = ((Z_alpha_over_2 + Z_beta)**2 * (sigma**2)) / (mu1 - mu2)**2\n",
        "\n",
        "# Round up to the nearest whole number\n",
        "sample_size = round(n)\n",
        "print(\"Number of patients needed per group:\", sample_size)"
      ],
      "metadata": {
        "id": "-pyfYKq3Vx3P"
      },
      "execution_count": null,
      "outputs": []
    },
    {
      "cell_type": "markdown",
      "source": [
        "3. A study compares the blood pressure levels of individuals before and after a dietary intervention. Which statistical test is most appropriate for analyzing this paired data?\n",
        "\n",
        "R. Paired t-test\n",
        "\n",
        "For analyzing paired data, where each individual is measured before and after an intervention, the most appropriate statistical test is the paired t-test.\n",
        "\n",
        "The paired t-test is used to determine whether there is a significant difference between the means of two related groups. In the context of your question, it assesses whether there is a significant difference between the blood pressure levels before and after the dietary intervention within the same individuals.\n",
        "\n",
        "The paired t-test is preferred in this scenario because it takes into account the paired nature of the data, which reduces the variability and increases the sensitivity of the statistical test compared to an independent t-test. This test assumes that the differences between paired observations are normally distributed."
      ],
      "metadata": {
        "id": "MfBXhM-AXT1t"
      }
    },
    {
      "cell_type": "markdown",
      "source": [
        "4. The mean salary of 30 employees in Company X is $52,000  with a standard deviation of $3,000, while the mean salary of 35 employees in Company Y is $54,500 with a standard deviation of $2,500, If the significance level is 0.05, conduct a two-sample test?"
      ],
      "metadata": {
        "id": "3IAdQyfqXiwL"
      }
    },
    {
      "cell_type": "code",
      "source": [
        "import numpy as np\n",
        "from scipy.stats import t\n",
        "\n",
        "# Given data for Company X\n",
        "mean_X = 52000\n",
        "std_X = 3000\n",
        "n_X = 30\n",
        "\n",
        "# Given data for Company Y\n",
        "mean_Y = 54500\n",
        "std_Y = 2500\n",
        "n_Y = 35\n",
        "\n",
        "# Significance level\n",
        "alpha = 0.05\n",
        "\n",
        "# Calculate the test statistic\n",
        "t_statistic = (mean_X - mean_Y) / np.sqrt((std_X**2 / n_X) + (std_Y**2 / n_Y))\n",
        "\n",
        "# Calculate degrees of freedom\n",
        "df = ((std_X**2 / n_X + std_Y**2 / n_Y)**2) / ((std_X**2 / n_X)**2 / (n_X - 1) + (std_Y**2 / n_Y)**2 / (n_Y - 1))\n",
        "\n",
        "# Calculate the critical value\n",
        "critical_value = t.ppf(1 - alpha/2, df)\n",
        "\n",
        "# Calculate the p-value\n",
        "p_value = 2 * (1 - t.cdf(np.abs(t_statistic), df))\n",
        "\n",
        "print(\"Test statistic:\", t_statistic)\n",
        "print(\"Critical value:\", critical_value)\n",
        "print(\"P-value:\", p_value)\n",
        "\n",
        "# Make a decision\n",
        "if np.abs(t_statistic) > critical_value:\n",
        "    print(\"Reject the null hypothesis. There is a significant difference in the mean salaries between Company X and Company Y.\")\n",
        "else:\n",
        "    print(\"Fail to reject the null hypothesis. There is no significant difference in the mean salaries between Company X and Company Y.\")\n"
      ],
      "metadata": {
        "id": "94lqX4TOXF5b"
      },
      "execution_count": null,
      "outputs": []
    },
    {
      "cell_type": "markdown",
      "source": [
        "5. A researcher claims that the average IQ of a population is 110. A sample of 60 individuals has an average IQ of 115 with a standard deviation of 12. What is the p-value for testing the researchers' claim and conducting hypothesis t-test?"
      ],
      "metadata": {
        "id": "AX7LOj_oY6R-"
      }
    },
    {
      "cell_type": "code",
      "source": [
        "from scipy.stats import t\n",
        "\n",
        "# Given data\n",
        "sample_mean = 115\n",
        "population_mean = 110\n",
        "sample_std = 12\n",
        "sample_size = 60\n",
        "\n",
        "# Calculate the test statistic\n",
        "t_statistic = (sample_mean - population_mean) / (sample_std / (sample_size ** 0.5))\n",
        "\n",
        "# Calculate degrees of freedom\n",
        "df = sample_size - 1\n",
        "\n",
        "# Calculate the p-value (two-tailed test)\n",
        "p_value = 2 * (1 - t.cdf(abs(t_statistic), df))\n",
        "\n",
        "print(\"Test statistic:\", t_statistic)\n",
        "print(\"Degrees of freedom:\", df)\n",
        "print(\"P-value:\", p_value)\n",
        "\n",
        "# Make a decision\n",
        "alpha = 0.05\n",
        "if p_value < alpha:\n",
        "    print(\"Reject the null hypothesis. There is sufficient evidence to suggest that the average IQ of the population is not 110.\")\n",
        "else:\n",
        "    print(\"Fail to reject the null hypothesis. There is not enough evidence to suggest that the average IQ of the population is not 110.\")\n"
      ],
      "metadata": {
        "id": "AddJUyQhZJuD"
      },
      "execution_count": null,
      "outputs": []
    },
    {
      "cell_type": "code",
      "source": [],
      "metadata": {
        "id": "6Wk_yanAZ0b4"
      },
      "execution_count": null,
      "outputs": []
    }
  ]
}